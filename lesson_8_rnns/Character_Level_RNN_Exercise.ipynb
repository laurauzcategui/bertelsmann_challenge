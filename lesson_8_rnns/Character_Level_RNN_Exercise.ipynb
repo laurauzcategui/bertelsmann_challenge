{
 "cells": [
  {
   "cell_type": "markdown",
   "metadata": {},
   "source": [
    "# Character-Level LSTM in PyTorch\n",
    "\n",
    "In this notebook, I'll construct a character-level LSTM with PyTorch. The network will train character by character on some text, then generate new text character by character. As an example, I will train on Anna Karenina. **This model will be able to generate new text based on the text from the book!**\n",
    "\n",
    "This network is based off of Andrej Karpathy's [post on RNNs](http://karpathy.github.io/2015/05/21/rnn-effectiveness/) and [implementation in Torch](https://github.com/karpathy/char-rnn). Below is the general architecture of the character-wise RNN.\n",
    "\n",
    "<img src=\"assets/charseq.jpeg\" width=\"500\">"
   ]
  },
  {
   "cell_type": "markdown",
   "metadata": {},
   "source": [
    "First let's load in our required resources for data loading and model creation."
   ]
  },
  {
   "cell_type": "code",
   "execution_count": 1,
   "metadata": {},
   "outputs": [],
   "source": [
    "import numpy as np\n",
    "import torch\n",
    "from torch import nn\n",
    "import torch.nn.functional as F"
   ]
  },
  {
   "cell_type": "markdown",
   "metadata": {},
   "source": [
    "## Load in Data\n",
    "\n",
    "Then, we'll load the Anna Karenina text file and convert it into integers for our network to use. "
   ]
  },
  {
   "cell_type": "code",
   "execution_count": 2,
   "metadata": {},
   "outputs": [],
   "source": [
    "# open text file and read in data as `text`\n",
    "with open('data/anna.txt', 'r') as f:\n",
    "    text = f.read()"
   ]
  },
  {
   "cell_type": "markdown",
   "metadata": {},
   "source": [
    "Let's check out the first 100 characters, make sure everything is peachy. According to the [American Book Review](http://americanbookreview.org/100bestlines.asp), this is the 6th best first line of a book ever."
   ]
  },
  {
   "cell_type": "code",
   "execution_count": 3,
   "metadata": {},
   "outputs": [
    {
     "data": {
      "text/plain": [
       "'Chapter 1\\n\\n\\nHappy families are all alike; every unhappy family is unhappy in its own\\nway.\\n\\nEverythin'"
      ]
     },
     "execution_count": 3,
     "metadata": {},
     "output_type": "execute_result"
    }
   ],
   "source": [
    "text[:100]"
   ]
  },
  {
   "cell_type": "markdown",
   "metadata": {},
   "source": [
    "### Tokenization\n",
    "\n",
    "In the cells, below, I'm creating a couple **dictionaries** to convert the characters to and from integers. Encoding the characters as integers makes it easier to use as input in the network."
   ]
  },
  {
   "cell_type": "code",
   "execution_count": 9,
   "metadata": {},
   "outputs": [],
   "source": [
    "# encode the text and map each character to an integer and vice versa\n",
    "\n",
    "chars = tuple(set(text)) # get the unique characters in a tuple\n",
    "\n",
    "# we create two dictionaries:\n",
    "\n",
    "# 1. int2char, which maps integers to characters\n",
    "# assign an integer to each character\n",
    "int2char = dict(enumerate(chars))\n",
    "\n",
    "\n",
    "# 2. char2int, which maps characters to unique integers\n",
    "char2int = {ch: ii for ii, ch in int2char.items()}"
   ]
  },
  {
   "cell_type": "code",
   "execution_count": 10,
   "metadata": {},
   "outputs": [],
   "source": [
    "# encode the text\n",
    "encoded = np.array([char2int[ch] for ch in text])"
   ]
  },
  {
   "cell_type": "markdown",
   "metadata": {},
   "source": [
    "And we can see those same characters from above, encoded as integers."
   ]
  },
  {
   "cell_type": "code",
   "execution_count": 11,
   "metadata": {},
   "outputs": [
    {
     "data": {
      "text/plain": [
       "array([18, 50,  9, 81, 39, 51, 37, 56, 65, 26, 26, 26, 44,  9, 81, 81, 69,\n",
       "       56, 54,  9, 10, 62,  2, 62, 51, 42, 56,  9, 37, 51, 56,  9,  2,  2,\n",
       "       56,  9,  2, 62, 29, 51, 43, 56, 51, 76, 51, 37, 69, 56, 19, 55, 50,\n",
       "        9, 81, 81, 69, 56, 54,  9, 10, 62,  2, 69, 56, 62, 42, 56, 19, 55,\n",
       "       50,  9, 81, 81, 69, 56, 62, 55, 56, 62, 39, 42, 56, 74,  6, 55, 26,\n",
       "        6,  9, 69, 31, 26, 26, 12, 76, 51, 37, 69, 39, 50, 62, 55])"
      ]
     },
     "execution_count": 11,
     "metadata": {},
     "output_type": "execute_result"
    }
   ],
   "source": [
    "encoded[:100]"
   ]
  },
  {
   "cell_type": "markdown",
   "metadata": {},
   "source": [
    "## Pre-processing the data\n",
    "\n",
    "As you can see in our char-RNN image above, our LSTM expects an input that is **one-hot encoded** meaning that each character is converted into an integer (via our created dictionary) and *then* converted into a column vector where only it's corresponding integer index will have the value of 1 and the rest of the vector will be filled with 0's. Since we're one-hot encoding the data, let's make a function to do that!\n"
   ]
  },
  {
   "cell_type": "code",
   "execution_count": 12,
   "metadata": {},
   "outputs": [],
   "source": [
    "def one_hot_encode(arr, n_labels):\n",
    "    \n",
    "    # Initialize the the encoded array\n",
    "    one_hot = np.zeros((arr.size, n_labels), dtype=np.float32)\n",
    "    \n",
    "    # Fill the appropriate elements with ones\n",
    "    one_hot[np.arange(one_hot.shape[0]), arr.flatten()] = 1.\n",
    "    \n",
    "    # Finally reshape it to get back to the original array\n",
    "    one_hot = one_hot.reshape((*arr.shape, n_labels))\n",
    "    \n",
    "    return one_hot"
   ]
  },
  {
   "cell_type": "code",
   "execution_count": 13,
   "metadata": {},
   "outputs": [
    {
     "name": "stdout",
     "output_type": "stream",
     "text": [
      "[[[0. 0. 0. 1. 0. 0. 0. 0.]\n",
      "  [0. 0. 0. 0. 0. 1. 0. 0.]\n",
      "  [0. 1. 0. 0. 0. 0. 0. 0.]]]\n"
     ]
    }
   ],
   "source": [
    "# check that the function works as expected\n",
    "test_seq = np.array([[3, 5, 1]])\n",
    "one_hot = one_hot_encode(test_seq, 8)\n",
    "\n",
    "print(one_hot)"
   ]
  },
  {
   "cell_type": "markdown",
   "metadata": {},
   "source": [
    "## Making training mini-batches\n",
    "\n",
    "\n",
    "To train on this data, we also want to create mini-batches for training. Remember that we want our batches to be multiple sequences of some desired number of sequence steps. Considering a simple example, our batches would look like this:\n",
    "\n",
    "<img src=\"assets/sequence_batching@1x.png\" width=500px>\n",
    "\n",
    "\n",
    "<br>\n",
    "\n",
    "In this example, we'll take the encoded characters (passed in as the `arr` parameter) and split them into multiple sequences, given by `batch_size`. Each of our sequences will be `seq_length` long.\n",
    "\n",
    "### Creating Batches\n",
    "\n",
    "**1. The first thing we need to do is discard some of the text so we only have completely full mini-batches. **\n",
    "\n",
    "Each batch contains $N \\times M$ characters, where $N$ is the batch size (the number of sequences in a batch) and $M$ is the seq_length or number of time steps in a sequence. Then, to get the total number of batches, $K$, that we can make from the array `arr`, you divide the length of `arr` by the number of characters per batch. Once you know the number of batches, you can get the total number of characters to keep from `arr`, $N * M * K$.\n",
    "\n",
    "**2. After that, we need to split `arr` into $N$ batches. ** \n",
    "\n",
    "You can do this using `arr.reshape(size)` where `size` is a tuple containing the dimensions sizes of the reshaped array. We know we want $N$ sequences in a batch, so let's make that the size of the first dimension. For the second dimension, you can use `-1` as a placeholder in the size, it'll fill up the array with the appropriate data for you. After this, you should have an array that is $N \\times (M * K)$.\n",
    "\n",
    "**3. Now that we have this array, we can iterate through it to get our mini-batches. **\n",
    "\n",
    "The idea is each batch is a $N \\times M$ window on the $N \\times (M * K)$ array. For each subsequent batch, the window moves over by `seq_length`. We also want to create both the input and target arrays. Remember that the targets are just the inputs shifted over by one character. The way I like to do this window is use `range` to take steps of size `n_steps` from $0$ to `arr.shape[1]`, the total number of tokens in each sequence. That way, the integers you get from `range` always point to the start of a batch, and each window is `seq_length` wide.\n",
    "\n",
    "> **TODO:** Write the code for creating batches in the function below. The exercises in this notebook _will not be easy_. I've provided a notebook with solutions alongside this notebook. If you get stuck, checkout the solutions. The most important thing is that you don't copy and paste the code into here, **type out the solution code yourself.**"
   ]
  },
  {
   "cell_type": "code",
   "execution_count": 31,
   "metadata": {},
   "outputs": [],
   "source": [
    "def get_batches(arr, batch_size, seq_length):\n",
    "    '''Create a generator that returns batches of size\n",
    "       batch_size x seq_length from arr.\n",
    "       \n",
    "       Arguments\n",
    "       ---------\n",
    "       arr: Array you want to make batches from\n",
    "       batch_size: Batch size, the number of sequences per batch\n",
    "       seq_length: Number of encoded chars in a sequence\n",
    "    '''\n",
    "    \n",
    "    ## TODO: Get the number of batches we can make\n",
    "    n_batches = arr.size // (seq_length * batch_size)\n",
    "    \n",
    "    ## TODO: Keep only enough characters to make full batches\n",
    "    arr = arr[: batch_size * seq_length * n_batches]\n",
    "    \n",
    "    ## TODO: Reshape into batch_size rows\n",
    "    arr = arr.reshape((batch_size,-1))\n",
    "    \n",
    "    ## TODO: Iterate over the batches using a window of size seq_length\n",
    "    for n in range(0, arr.shape[1], seq_length):\n",
    "        # The features\n",
    "        x = arr[:, n:n+seq_length]\n",
    "        # The targets, shifted by one\n",
    "        y = np.zeros_like(x)\n",
    "        try: \n",
    "            y[:, :-1], y[:,-1] = x[:, 1:], arr[:, n+seq_length]\n",
    "        except IndexError: #on the very end of the array\n",
    "            y[:, :-1], y[:, -1] = x[:, 1:], arr[:, 0]\n",
    "        \n",
    "        yield x, y"
   ]
  },
  {
   "cell_type": "markdown",
   "metadata": {},
   "source": [
    "### Test Your Implementation\n",
    "\n",
    "Now I'll make some data sets and we can check out what's going on as we batch data. Here, as an example, I'm going to use a batch size of 8 and 50 sequence steps."
   ]
  },
  {
   "cell_type": "code",
   "execution_count": 32,
   "metadata": {},
   "outputs": [],
   "source": [
    "batches = get_batches(encoded, 8, 50)\n",
    "x, y = next(batches)"
   ]
  },
  {
   "cell_type": "code",
   "execution_count": 33,
   "metadata": {},
   "outputs": [
    {
     "name": "stdout",
     "output_type": "stream",
     "text": [
      "x\n",
      " [[18 50  9 81 39 51 37 56 65 26]\n",
      " [42 74 55 56 39 50  9 39 56  9]\n",
      " [51 55 47 56 74 37 56  9 56 54]\n",
      " [42 56 39 50 51 56 72 50 62 51]\n",
      " [56 42  9  6 56 50 51 37 56 39]\n",
      " [72 19 42 42 62 74 55 56  9 55]\n",
      " [56 17 55 55  9 56 50  9 47 56]\n",
      " [60 40  2 74 55 42 29 69 31 56]]\n",
      "\n",
      "y\n",
      " [[50  9 81 39 51 37 56 65 26 26]\n",
      " [74 55 56 39 50  9 39 56  9 39]\n",
      " [55 47 56 74 37 56  9 56 54 74]\n",
      " [56 39 50 51 56 72 50 62 51 54]\n",
      " [42  9  6 56 50 51 37 56 39 51]\n",
      " [19 42 42 62 74 55 56  9 55 47]\n",
      " [17 55 55  9 56 50  9 47 56 42]\n",
      " [40  2 74 55 42 29 69 31 56  1]]\n"
     ]
    }
   ],
   "source": [
    "# printing out the first 10 items in a sequence\n",
    "print('x\\n', x[:10, :10])\n",
    "print('\\ny\\n', y[:10, :10])"
   ]
  },
  {
   "cell_type": "markdown",
   "metadata": {},
   "source": [
    "If you implemented `get_batches` correctly, the above output should look something like \n",
    "```\n",
    "x\n",
    " [[25  8 60 11 45 27 28 73  1  2]\n",
    " [17  7 20 73 45  8 60 45 73 60]\n",
    " [27 20 80 73  7 28 73 60 73 65]\n",
    " [17 73 45  8 27 73 66  8 46 27]\n",
    " [73 17 60 12 73  8 27 28 73 45]\n",
    " [66 64 17 17 46  7 20 73 60 20]\n",
    " [73 76 20 20 60 73  8 60 80 73]\n",
    " [47 35 43  7 20 17 24 50 37 73]]\n",
    "\n",
    "y\n",
    " [[ 8 60 11 45 27 28 73  1  2  2]\n",
    " [ 7 20 73 45  8 60 45 73 60 45]\n",
    " [20 80 73  7 28 73 60 73 65  7]\n",
    " [73 45  8 27 73 66  8 46 27 65]\n",
    " [17 60 12 73  8 27 28 73 45 27]\n",
    " [64 17 17 46  7 20 73 60 20 80]\n",
    " [76 20 20 60 73  8 60 80 73 17]\n",
    " [35 43  7 20 17 24 50 37 73 36]]\n",
    " ```\n",
    " although the exact numbers may be different. Check to make sure the data is shifted over one step for `y`."
   ]
  },
  {
   "cell_type": "markdown",
   "metadata": {},
   "source": [
    "---\n",
    "## Defining the network with PyTorch\n",
    "\n",
    "Below is where you'll define the network.\n",
    "\n",
    "<img src=\"assets/charRNN.png\" width=500px>\n",
    "\n",
    "Next, you'll use PyTorch to define the architecture of the network. We start by defining the layers and operations we want. Then, define a method for the forward pass. You've also been given a method for predicting characters."
   ]
  },
  {
   "cell_type": "markdown",
   "metadata": {},
   "source": [
    "### Model Structure\n",
    "\n",
    "In `__init__` the suggested structure is as follows:\n",
    "* Create and store the necessary dictionaries (this has been done for you)\n",
    "* Define an LSTM layer that takes as params: an input size (the number of characters), a hidden layer size `n_hidden`, a number of layers `n_layers`, a dropout probability `drop_prob`, and a batch_first boolean (True, since we are batching)\n",
    "* Define a dropout layer with `drop_prob`\n",
    "* Define a fully-connected layer with params: input size `n_hidden` and output size (the number of characters)\n",
    "* Finally, initialize the weights (again, this has been given)\n",
    "\n",
    "Note that some parameters have been named and given in the `__init__` function, and we use them and store them by doing something like `self.drop_prob = drop_prob`."
   ]
  },
  {
   "cell_type": "markdown",
   "metadata": {},
   "source": [
    "---\n",
    "### LSTM Inputs/Outputs\n",
    "\n",
    "You can create a basic [LSTM layer](https://pytorch.org/docs/stable/nn.html#lstm) as follows\n",
    "\n",
    "```python\n",
    "self.lstm = nn.LSTM(input_size, n_hidden, n_layers, \n",
    "                            dropout=drop_prob, batch_first=True)\n",
    "```\n",
    "\n",
    "where `input_size` is the number of characters this cell expects to see as sequential input, and `n_hidden` is the number of units in the hidden layers in the cell. And we can add dropout by adding a dropout parameter with a specified probability; this will automatically add dropout to the inputs or outputs. Finally, in the `forward` function, we can stack up the LSTM cells into layers using `.view`. With this, you pass in a list of cells and it will send the output of one cell into the next cell.\n",
    "\n",
    "We also need to create an initial hidden state of all zeros. This is done like so\n",
    "\n",
    "```python\n",
    "self.init_hidden()\n",
    "```"
   ]
  },
  {
   "cell_type": "code",
   "execution_count": 34,
   "metadata": {},
   "outputs": [
    {
     "name": "stdout",
     "output_type": "stream",
     "text": [
      "Training on GPU!\n"
     ]
    }
   ],
   "source": [
    "# check if GPU is available\n",
    "train_on_gpu = torch.cuda.is_available()\n",
    "if(train_on_gpu):\n",
    "    print('Training on GPU!')\n",
    "else: \n",
    "    print('No GPU available, training on CPU; consider making n_epochs very small.')"
   ]
  },
  {
   "cell_type": "code",
   "execution_count": 52,
   "metadata": {},
   "outputs": [],
   "source": [
    "class CharRNN(nn.Module):\n",
    "    \n",
    "    def __init__(self, tokens, n_hidden=256, n_layers=2,\n",
    "                               drop_prob=0.5, lr=0.001):\n",
    "        super().__init__()\n",
    "        self.drop_prob = drop_prob\n",
    "        self.n_layers = n_layers\n",
    "        self.n_hidden = n_hidden\n",
    "        self.lr = lr\n",
    "        \n",
    "        # creating character dictionaries\n",
    "        self.chars = tokens\n",
    "        self.int2char = dict(enumerate(self.chars))\n",
    "        self.char2int = {ch: ii for ii, ch in self.int2char.items()}\n",
    "        \n",
    "        ## Defining the LSTM layer \n",
    "        self.lstm = nn.LSTM(input_size=len(self.chars), \n",
    "                            hidden_size=n_hidden,\n",
    "                            num_layers=n_layers,\n",
    "                            dropout=drop_prob,\n",
    "                            batch_first=True)\n",
    "        \n",
    "        # Definining the Dropout layer\n",
    "        self.dropout = nn.Dropout(drop_prob)\n",
    "        \n",
    "        # Define the fc layer\n",
    "        self.fc = nn.Linear(n_hidden, len(self.chars))\n",
    "      \n",
    "    \n",
    "    def forward(self, x, hidden):\n",
    "        ''' Forward pass through the network. \n",
    "            These inputs are x, and the hidden/cell state `hidden`. '''\n",
    "                \n",
    "        ## Get the outputs and the new hidden state from the lstm\n",
    "        lstm_out, n_hidden = self.lstm(x, hidden)\n",
    "        \n",
    "        # Adding dropout \n",
    "        out = self.dropout(lstm_out)\n",
    "        \n",
    "        # Stack the lstm \n",
    "        out = out.contiguous().view(-1, self.n_hidden)\n",
    "        \n",
    "        # Send to fully connected layer \n",
    "        out = self.fc(out)\n",
    "        \n",
    "        # return the final output and the hidden state\n",
    "        return out, hidden\n",
    "    \n",
    "    \n",
    "    def init_hidden(self, batch_size):\n",
    "        ''' Initializes hidden state '''\n",
    "        # Create two new tensors with sizes n_layers x batch_size x n_hidden,\n",
    "        # initialized to zero, for hidden state and cell state of LSTM\n",
    "        weight = next(self.parameters()).data\n",
    "        \n",
    "        if (train_on_gpu):\n",
    "            hidden = (weight.new(self.n_layers, batch_size, self.n_hidden).zero_().cuda(),\n",
    "                  weight.new(self.n_layers, batch_size, self.n_hidden).zero_().cuda())\n",
    "        else:\n",
    "            hidden = (weight.new(self.n_layers, batch_size, self.n_hidden).zero_(),\n",
    "                      weight.new(self.n_layers, batch_size, self.n_hidden).zero_())\n",
    "        \n",
    "        return hidden\n",
    "        "
   ]
  },
  {
   "cell_type": "markdown",
   "metadata": {},
   "source": [
    "## Time to train\n",
    "\n",
    "The train function gives us the ability to set the number of epochs, the learning rate, and other parameters.\n",
    "\n",
    "Below we're using an Adam optimizer and cross entropy loss since we are looking at character class scores as output. We calculate the loss and perform backpropagation, as usual!\n",
    "\n",
    "A couple of details about training: \n",
    ">* Within the batch loop, we detach the hidden state from its history; this time setting it equal to a new *tuple* variable because an LSTM has a hidden state that is a tuple of the hidden and cell states.\n",
    "* We use [`clip_grad_norm_`](https://pytorch.org/docs/stable/_modules/torch/nn/utils/clip_grad.html) to help prevent exploding gradients."
   ]
  },
  {
   "cell_type": "code",
   "execution_count": 53,
   "metadata": {},
   "outputs": [],
   "source": [
    "def train(net, data, epochs=10, batch_size=10, seq_length=50, lr=0.001, clip=5, val_frac=0.1, print_every=10):\n",
    "    ''' Training a network \n",
    "    \n",
    "        Arguments\n",
    "        ---------\n",
    "        \n",
    "        net: CharRNN network\n",
    "        data: text data to train the network\n",
    "        epochs: Number of epochs to train\n",
    "        batch_size: Number of mini-sequences per mini-batch, aka batch size\n",
    "        seq_length: Number of character steps per mini-batch\n",
    "        lr: learning rate\n",
    "        clip: gradient clipping\n",
    "        val_frac: Fraction of data to hold out for validation\n",
    "        print_every: Number of steps for printing training and validation loss\n",
    "    \n",
    "    '''\n",
    "    net.train()\n",
    "    # Define the optimizer \n",
    "    opt = torch.optim.Adam(net.parameters(), lr=lr)\n",
    "    # Define the loss function\n",
    "    criterion = nn.CrossEntropyLoss()\n",
    "    \n",
    "    # create training and validation data\n",
    "    val_idx = int(len(data)*(1-val_frac))\n",
    "    data, val_data = data[:val_idx], data[val_idx:]\n",
    "    \n",
    "    if(train_on_gpu):\n",
    "        net.cuda()\n",
    "    \n",
    "    counter = 0\n",
    "    n_chars = len(net.chars)\n",
    "    for e in range(epochs):\n",
    "        # initialize hidden state\n",
    "        hid = net.init_hidden(batch_size)\n",
    "        \n",
    "        for x, y in get_batches(data, batch_size, seq_length):\n",
    "            counter += 1\n",
    "            \n",
    "            # One-hot encode our data and make them Torch tensors\n",
    "            x = one_hot_encode(x, n_chars)\n",
    "            inputs, targets = torch.from_numpy(x), torch.from_numpy(y)\n",
    "            \n",
    "            if(train_on_gpu):\n",
    "                inputs, targets = inputs.cuda(), targets.cuda()\n",
    "\n",
    "            # Creating new variables for the hidden state, otherwise\n",
    "            # we'd backprop through the entire training history\n",
    "            hid = tuple([each.data for each in hid])\n",
    "\n",
    "            # zero accumulated gradients\n",
    "            net.zero_grad()\n",
    "            \n",
    "            # get the output from the model\n",
    "            output, hid = net(inputs, hid)\n",
    "            \n",
    "            # calculate the loss and perform backprop\n",
    "            loss = criterion(output, targets.view(batch_size*seq_length).long())\n",
    "            loss.backward()\n",
    "            # `clip_grad_norm` helps prevent the exploding gradient problem in RNNs / LSTMs.\n",
    "            nn.utils.clip_grad_norm_(net.parameters(), clip)\n",
    "            opt.step()\n",
    "            \n",
    "            # loss stats\n",
    "            if counter % print_every == 0:\n",
    "                # Get validation loss\n",
    "                val_h = net.init_hidden(batch_size)\n",
    "                val_losses = []\n",
    "                net.eval()\n",
    "                for x, y in get_batches(val_data, batch_size, seq_length):\n",
    "                    # One-hot encode our data and make them Torch tensors\n",
    "                    x = one_hot_encode(x, n_chars)\n",
    "                    x, y = torch.from_numpy(x), torch.from_numpy(y)\n",
    "                    \n",
    "                    # Creating new variables for the hidden state, otherwise\n",
    "                    # we'd backprop through the entire training history\n",
    "                    val_h = tuple([each.data for each in val_h])\n",
    "                    \n",
    "                    inputs, targets = x, y\n",
    "                    if(train_on_gpu):\n",
    "                        inputs, targets = inputs.cuda(), targets.cuda()\n",
    "\n",
    "                    output, val_h = net(inputs, val_h)\n",
    "                    val_loss = criterion(output, targets.view(batch_size*seq_length).long())\n",
    "                \n",
    "                    val_losses.append(val_loss.item())\n",
    "                \n",
    "                net.train() # reset to train mode after iterationg through validation data\n",
    "                \n",
    "                print(\"Epoch: {}/{}...\".format(e+1, epochs),\n",
    "                      \"Step: {}...\".format(counter),\n",
    "                      \"Loss: {:.4f}...\".format(loss.item()),\n",
    "                      \"Val Loss: {:.4f}\".format(np.mean(val_losses)))"
   ]
  },
  {
   "cell_type": "markdown",
   "metadata": {},
   "source": [
    "## Instantiating the model\n",
    "\n",
    "Now we can actually train the network. First we'll create the network itself, with some given hyperparameters. Then, define the mini-batches sizes, and start training!"
   ]
  },
  {
   "cell_type": "code",
   "execution_count": 54,
   "metadata": {},
   "outputs": [],
   "source": [
    "## TODO: set your model hyperparameters\n",
    "# define and print the net\n",
    "n_hidden=512\n",
    "n_layers=2"
   ]
  },
  {
   "cell_type": "code",
   "execution_count": 55,
   "metadata": {},
   "outputs": [
    {
     "name": "stdout",
     "output_type": "stream",
     "text": [
      "CharRNN(\n",
      "  (lstm): LSTM(83, 512, num_layers=2, batch_first=True, dropout=0.5)\n",
      "  (dropout): Dropout(p=0.5, inplace=False)\n",
      "  (fc): Linear(in_features=512, out_features=83, bias=True)\n",
      ")\n"
     ]
    }
   ],
   "source": [
    "net = CharRNN(chars, n_hidden, n_layers)\n",
    "print(net)"
   ]
  },
  {
   "cell_type": "markdown",
   "metadata": {},
   "source": [
    "### Set your training hyperparameters!"
   ]
  },
  {
   "cell_type": "code",
   "execution_count": 56,
   "metadata": {},
   "outputs": [],
   "source": [
    "batch_size = 128\n",
    "seq_length = 100\n",
    "n_epochs =  20 # start small if you are just testing initial behavior"
   ]
  },
  {
   "cell_type": "code",
   "execution_count": 57,
   "metadata": {
    "scrolled": true
   },
   "outputs": [
    {
     "name": "stdout",
     "output_type": "stream",
     "text": [
      "Epoch: 1/20... Step: 10... Loss: 3.2996... Val Loss: 3.2419\n",
      "Epoch: 1/20... Step: 20... Loss: 3.1749... Val Loss: 3.1568\n",
      "Epoch: 1/20... Step: 30... Loss: 3.1602... Val Loss: 3.1396\n",
      "Epoch: 1/20... Step: 40... Loss: 3.1267... Val Loss: 3.1335\n",
      "Epoch: 1/20... Step: 50... Loss: 3.1554... Val Loss: 3.1302\n",
      "Epoch: 1/20... Step: 60... Loss: 3.1289... Val Loss: 3.1261\n",
      "Epoch: 1/20... Step: 70... Loss: 3.1158... Val Loss: 3.1214\n",
      "Epoch: 1/20... Step: 80... Loss: 3.1230... Val Loss: 3.1120\n",
      "Epoch: 1/20... Step: 90... Loss: 3.1117... Val Loss: 3.0918\n",
      "Epoch: 1/20... Step: 100... Loss: 3.0611... Val Loss: 3.0439\n",
      "Epoch: 1/20... Step: 110... Loss: 2.9848... Val Loss: 2.9664\n",
      "Epoch: 1/20... Step: 120... Loss: 2.8961... Val Loss: 2.8893\n",
      "Epoch: 1/20... Step: 130... Loss: 2.8045... Val Loss: 2.7613\n",
      "Epoch: 2/20... Step: 140... Loss: 2.6876... Val Loss: 2.6493\n",
      "Epoch: 2/20... Step: 150... Loss: 2.6189... Val Loss: 2.5694\n",
      "Epoch: 2/20... Step: 160... Loss: 2.5542... Val Loss: 2.5120\n",
      "Epoch: 2/20... Step: 170... Loss: 2.4894... Val Loss: 2.4745\n",
      "Epoch: 2/20... Step: 180... Loss: 2.4698... Val Loss: 2.4337\n",
      "Epoch: 2/20... Step: 190... Loss: 2.4299... Val Loss: 2.4104\n",
      "Epoch: 2/20... Step: 200... Loss: 2.4082... Val Loss: 2.3762\n",
      "Epoch: 2/20... Step: 210... Loss: 2.3891... Val Loss: 2.3537\n",
      "Epoch: 2/20... Step: 220... Loss: 2.3438... Val Loss: 2.3224\n",
      "Epoch: 2/20... Step: 230... Loss: 2.3370... Val Loss: 2.2969\n",
      "Epoch: 2/20... Step: 240... Loss: 2.3218... Val Loss: 2.2833\n",
      "Epoch: 2/20... Step: 250... Loss: 2.2584... Val Loss: 2.2541\n",
      "Epoch: 2/20... Step: 260... Loss: 2.2398... Val Loss: 2.2301\n",
      "Epoch: 2/20... Step: 270... Loss: 2.2397... Val Loss: 2.2100\n",
      "Epoch: 3/20... Step: 280... Loss: 2.2507... Val Loss: 2.1875\n",
      "Epoch: 3/20... Step: 290... Loss: 2.1990... Val Loss: 2.1644\n",
      "Epoch: 3/20... Step: 300... Loss: 2.1934... Val Loss: 2.1458\n",
      "Epoch: 3/20... Step: 310... Loss: 2.1580... Val Loss: 2.1332\n",
      "Epoch: 3/20... Step: 320... Loss: 2.1403... Val Loss: 2.1138\n",
      "Epoch: 3/20... Step: 330... Loss: 2.1034... Val Loss: 2.0950\n",
      "Epoch: 3/20... Step: 340... Loss: 2.1152... Val Loss: 2.0780\n",
      "Epoch: 3/20... Step: 350... Loss: 2.1155... Val Loss: 2.0606\n",
      "Epoch: 3/20... Step: 360... Loss: 2.0417... Val Loss: 2.0435\n",
      "Epoch: 3/20... Step: 370... Loss: 2.0686... Val Loss: 2.0299\n",
      "Epoch: 3/20... Step: 380... Loss: 2.0474... Val Loss: 2.0168\n",
      "Epoch: 3/20... Step: 390... Loss: 2.0255... Val Loss: 2.0011\n",
      "Epoch: 3/20... Step: 400... Loss: 1.9928... Val Loss: 1.9853\n",
      "Epoch: 3/20... Step: 410... Loss: 2.0189... Val Loss: 1.9737\n",
      "Epoch: 4/20... Step: 420... Loss: 1.9900... Val Loss: 1.9568\n",
      "Epoch: 4/20... Step: 430... Loss: 1.9822... Val Loss: 1.9435\n",
      "Epoch: 4/20... Step: 440... Loss: 1.9709... Val Loss: 1.9399\n",
      "Epoch: 4/20... Step: 450... Loss: 1.9112... Val Loss: 1.9218\n",
      "Epoch: 4/20... Step: 460... Loss: 1.9079... Val Loss: 1.9113\n",
      "Epoch: 4/20... Step: 470... Loss: 1.9296... Val Loss: 1.8985\n",
      "Epoch: 4/20... Step: 480... Loss: 1.9079... Val Loss: 1.8870\n",
      "Epoch: 4/20... Step: 490... Loss: 1.9252... Val Loss: 1.8760\n",
      "Epoch: 4/20... Step: 500... Loss: 1.9178... Val Loss: 1.8650\n",
      "Epoch: 4/20... Step: 510... Loss: 1.8911... Val Loss: 1.8536\n",
      "Epoch: 4/20... Step: 520... Loss: 1.9046... Val Loss: 1.8430\n",
      "Epoch: 4/20... Step: 530... Loss: 1.8708... Val Loss: 1.8356\n",
      "Epoch: 4/20... Step: 540... Loss: 1.8330... Val Loss: 1.8249\n",
      "Epoch: 4/20... Step: 550... Loss: 1.8693... Val Loss: 1.8146\n",
      "Epoch: 5/20... Step: 560... Loss: 1.8332... Val Loss: 1.8053\n",
      "Epoch: 5/20... Step: 570... Loss: 1.8257... Val Loss: 1.7956\n",
      "Epoch: 5/20... Step: 580... Loss: 1.7997... Val Loss: 1.7888\n",
      "Epoch: 5/20... Step: 590... Loss: 1.8118... Val Loss: 1.7766\n",
      "Epoch: 5/20... Step: 600... Loss: 1.7878... Val Loss: 1.7711\n",
      "Epoch: 5/20... Step: 610... Loss: 1.7787... Val Loss: 1.7652\n",
      "Epoch: 5/20... Step: 620... Loss: 1.7703... Val Loss: 1.7583\n",
      "Epoch: 5/20... Step: 630... Loss: 1.7957... Val Loss: 1.7516\n",
      "Epoch: 5/20... Step: 640... Loss: 1.7647... Val Loss: 1.7392\n",
      "Epoch: 5/20... Step: 650... Loss: 1.7534... Val Loss: 1.7361\n",
      "Epoch: 5/20... Step: 660... Loss: 1.7367... Val Loss: 1.7253\n",
      "Epoch: 5/20... Step: 670... Loss: 1.7553... Val Loss: 1.7204\n",
      "Epoch: 5/20... Step: 680... Loss: 1.7486... Val Loss: 1.7108\n",
      "Epoch: 5/20... Step: 690... Loss: 1.7212... Val Loss: 1.7101\n",
      "Epoch: 6/20... Step: 700... Loss: 1.7261... Val Loss: 1.7044\n",
      "Epoch: 6/20... Step: 710... Loss: 1.7161... Val Loss: 1.6955\n",
      "Epoch: 6/20... Step: 720... Loss: 1.7052... Val Loss: 1.6891\n",
      "Epoch: 6/20... Step: 730... Loss: 1.7140... Val Loss: 1.6795\n",
      "Epoch: 6/20... Step: 740... Loss: 1.6798... Val Loss: 1.6769\n",
      "Epoch: 6/20... Step: 750... Loss: 1.6571... Val Loss: 1.6724\n",
      "Epoch: 6/20... Step: 760... Loss: 1.7039... Val Loss: 1.6656\n",
      "Epoch: 6/20... Step: 770... Loss: 1.6878... Val Loss: 1.6658\n",
      "Epoch: 6/20... Step: 780... Loss: 1.6781... Val Loss: 1.6555\n",
      "Epoch: 6/20... Step: 790... Loss: 1.6499... Val Loss: 1.6538\n",
      "Epoch: 6/20... Step: 800... Loss: 1.6841... Val Loss: 1.6486\n",
      "Epoch: 6/20... Step: 810... Loss: 1.6630... Val Loss: 1.6433\n",
      "Epoch: 6/20... Step: 820... Loss: 1.6154... Val Loss: 1.6360\n",
      "Epoch: 6/20... Step: 830... Loss: 1.6714... Val Loss: 1.6336\n",
      "Epoch: 7/20... Step: 840... Loss: 1.6179... Val Loss: 1.6306\n",
      "Epoch: 7/20... Step: 850... Loss: 1.6371... Val Loss: 1.6225\n",
      "Epoch: 7/20... Step: 860... Loss: 1.6132... Val Loss: 1.6175\n",
      "Epoch: 7/20... Step: 870... Loss: 1.6348... Val Loss: 1.6112\n",
      "Epoch: 7/20... Step: 880... Loss: 1.6360... Val Loss: 1.6091\n",
      "Epoch: 7/20... Step: 890... Loss: 1.6174... Val Loss: 1.6036\n",
      "Epoch: 7/20... Step: 900... Loss: 1.6134... Val Loss: 1.6037\n",
      "Epoch: 7/20... Step: 910... Loss: 1.5848... Val Loss: 1.5992\n",
      "Epoch: 7/20... Step: 920... Loss: 1.6061... Val Loss: 1.5940\n",
      "Epoch: 7/20... Step: 930... Loss: 1.5928... Val Loss: 1.5921\n",
      "Epoch: 7/20... Step: 940... Loss: 1.6090... Val Loss: 1.5903\n",
      "Epoch: 7/20... Step: 950... Loss: 1.6050... Val Loss: 1.5858\n",
      "Epoch: 7/20... Step: 960... Loss: 1.6125... Val Loss: 1.5795\n",
      "Epoch: 7/20... Step: 970... Loss: 1.6143... Val Loss: 1.5761\n",
      "Epoch: 8/20... Step: 980... Loss: 1.5887... Val Loss: 1.5768\n",
      "Epoch: 8/20... Step: 990... Loss: 1.5814... Val Loss: 1.5655\n",
      "Epoch: 8/20... Step: 1000... Loss: 1.5709... Val Loss: 1.5607\n",
      "Epoch: 8/20... Step: 1010... Loss: 1.6084... Val Loss: 1.5578\n",
      "Epoch: 8/20... Step: 1020... Loss: 1.5788... Val Loss: 1.5554\n",
      "Epoch: 8/20... Step: 1030... Loss: 1.5593... Val Loss: 1.5538\n",
      "Epoch: 8/20... Step: 1040... Loss: 1.5729... Val Loss: 1.5526\n",
      "Epoch: 8/20... Step: 1050... Loss: 1.5575... Val Loss: 1.5469\n",
      "Epoch: 8/20... Step: 1060... Loss: 1.5495... Val Loss: 1.5428\n",
      "Epoch: 8/20... Step: 1070... Loss: 1.5514... Val Loss: 1.5436\n",
      "Epoch: 8/20... Step: 1080... Loss: 1.5546... Val Loss: 1.5403\n",
      "Epoch: 8/20... Step: 1090... Loss: 1.5440... Val Loss: 1.5353\n",
      "Epoch: 8/20... Step: 1100... Loss: 1.5339... Val Loss: 1.5323\n",
      "Epoch: 8/20... Step: 1110... Loss: 1.5424... Val Loss: 1.5282\n",
      "Epoch: 9/20... Step: 1120... Loss: 1.5525... Val Loss: 1.5289\n",
      "Epoch: 9/20... Step: 1130... Loss: 1.5377... Val Loss: 1.5223\n",
      "Epoch: 9/20... Step: 1140... Loss: 1.5368... Val Loss: 1.5183\n",
      "Epoch: 9/20... Step: 1150... Loss: 1.5479... Val Loss: 1.5230\n",
      "Epoch: 9/20... Step: 1160... Loss: 1.5064... Val Loss: 1.5148\n",
      "Epoch: 9/20... Step: 1170... Loss: 1.5161... Val Loss: 1.5098\n",
      "Epoch: 9/20... Step: 1180... Loss: 1.5097... Val Loss: 1.5110\n",
      "Epoch: 9/20... Step: 1190... Loss: 1.5409... Val Loss: 1.5094\n",
      "Epoch: 9/20... Step: 1200... Loss: 1.4974... Val Loss: 1.5024\n",
      "Epoch: 9/20... Step: 1210... Loss: 1.4988... Val Loss: 1.5038\n",
      "Epoch: 9/20... Step: 1220... Loss: 1.5028... Val Loss: 1.5058\n",
      "Epoch: 9/20... Step: 1230... Loss: 1.4830... Val Loss: 1.4969\n",
      "Epoch: 9/20... Step: 1240... Loss: 1.4977... Val Loss: 1.4940\n",
      "Epoch: 9/20... Step: 1250... Loss: 1.5021... Val Loss: 1.4927\n",
      "Epoch: 10/20... Step: 1260... Loss: 1.5048... Val Loss: 1.4935\n",
      "Epoch: 10/20... Step: 1270... Loss: 1.4925... Val Loss: 1.4875\n",
      "Epoch: 10/20... Step: 1280... Loss: 1.4990... Val Loss: 1.4854\n",
      "Epoch: 10/20... Step: 1290... Loss: 1.4942... Val Loss: 1.4871\n",
      "Epoch: 10/20... Step: 1300... Loss: 1.4767... Val Loss: 1.4828\n",
      "Epoch: 10/20... Step: 1310... Loss: 1.4931... Val Loss: 1.4796\n",
      "Epoch: 10/20... Step: 1320... Loss: 1.4673... Val Loss: 1.4793\n",
      "Epoch: 10/20... Step: 1330... Loss: 1.4695... Val Loss: 1.4776\n",
      "Epoch: 10/20... Step: 1340... Loss: 1.4516... Val Loss: 1.4727\n"
     ]
    },
    {
     "name": "stdout",
     "output_type": "stream",
     "text": [
      "Epoch: 10/20... Step: 1350... Loss: 1.4576... Val Loss: 1.4727\n",
      "Epoch: 10/20... Step: 1360... Loss: 1.4563... Val Loss: 1.4744\n",
      "Epoch: 10/20... Step: 1370... Loss: 1.4431... Val Loss: 1.4698\n",
      "Epoch: 10/20... Step: 1380... Loss: 1.4768... Val Loss: 1.4653\n",
      "Epoch: 10/20... Step: 1390... Loss: 1.4869... Val Loss: 1.4637\n",
      "Epoch: 11/20... Step: 1400... Loss: 1.4819... Val Loss: 1.4645\n",
      "Epoch: 11/20... Step: 1410... Loss: 1.4973... Val Loss: 1.4582\n",
      "Epoch: 11/20... Step: 1420... Loss: 1.4879... Val Loss: 1.4555\n",
      "Epoch: 11/20... Step: 1430... Loss: 1.4460... Val Loss: 1.4570\n",
      "Epoch: 11/20... Step: 1440... Loss: 1.4786... Val Loss: 1.4542\n",
      "Epoch: 11/20... Step: 1450... Loss: 1.4095... Val Loss: 1.4530\n",
      "Epoch: 11/20... Step: 1460... Loss: 1.4404... Val Loss: 1.4502\n",
      "Epoch: 11/20... Step: 1470... Loss: 1.4309... Val Loss: 1.4480\n",
      "Epoch: 11/20... Step: 1480... Loss: 1.4498... Val Loss: 1.4473\n",
      "Epoch: 11/20... Step: 1490... Loss: 1.4291... Val Loss: 1.4474\n",
      "Epoch: 11/20... Step: 1500... Loss: 1.4221... Val Loss: 1.4484\n",
      "Epoch: 11/20... Step: 1510... Loss: 1.4124... Val Loss: 1.4447\n",
      "Epoch: 11/20... Step: 1520... Loss: 1.4463... Val Loss: 1.4402\n",
      "Epoch: 12/20... Step: 1530... Loss: 1.4364... Val Loss: 1.4421\n",
      "Epoch: 12/20... Step: 1540... Loss: 1.4455... Val Loss: 1.4441\n",
      "Epoch: 12/20... Step: 1550... Loss: 1.4518... Val Loss: 1.4321\n",
      "Epoch: 12/20... Step: 1560... Loss: 1.4549... Val Loss: 1.4343\n",
      "Epoch: 12/20... Step: 1570... Loss: 1.4217... Val Loss: 1.4342\n",
      "Epoch: 12/20... Step: 1580... Loss: 1.3921... Val Loss: 1.4337\n",
      "Epoch: 12/20... Step: 1590... Loss: 1.3952... Val Loss: 1.4327\n",
      "Epoch: 12/20... Step: 1600... Loss: 1.4149... Val Loss: 1.4290\n",
      "Epoch: 12/20... Step: 1610... Loss: 1.4115... Val Loss: 1.4291\n",
      "Epoch: 12/20... Step: 1620... Loss: 1.4011... Val Loss: 1.4240\n",
      "Epoch: 12/20... Step: 1630... Loss: 1.4342... Val Loss: 1.4264\n",
      "Epoch: 12/20... Step: 1640... Loss: 1.3986... Val Loss: 1.4308\n",
      "Epoch: 12/20... Step: 1650... Loss: 1.3750... Val Loss: 1.4253\n",
      "Epoch: 12/20... Step: 1660... Loss: 1.4311... Val Loss: 1.4197\n",
      "Epoch: 13/20... Step: 1670... Loss: 1.4033... Val Loss: 1.4193\n",
      "Epoch: 13/20... Step: 1680... Loss: 1.4106... Val Loss: 1.4238\n",
      "Epoch: 13/20... Step: 1690... Loss: 1.3946... Val Loss: 1.4122\n",
      "Epoch: 13/20... Step: 1700... Loss: 1.3919... Val Loss: 1.4157\n",
      "Epoch: 13/20... Step: 1710... Loss: 1.3803... Val Loss: 1.4157\n",
      "Epoch: 13/20... Step: 1720... Loss: 1.3842... Val Loss: 1.4158\n",
      "Epoch: 13/20... Step: 1730... Loss: 1.4234... Val Loss: 1.4141\n",
      "Epoch: 13/20... Step: 1740... Loss: 1.3921... Val Loss: 1.4100\n",
      "Epoch: 13/20... Step: 1750... Loss: 1.3580... Val Loss: 1.4141\n",
      "Epoch: 13/20... Step: 1760... Loss: 1.3783... Val Loss: 1.4093\n",
      "Epoch: 13/20... Step: 1770... Loss: 1.4070... Val Loss: 1.4086\n",
      "Epoch: 13/20... Step: 1780... Loss: 1.3820... Val Loss: 1.4104\n",
      "Epoch: 13/20... Step: 1790... Loss: 1.3634... Val Loss: 1.4087\n",
      "Epoch: 13/20... Step: 1800... Loss: 1.3924... Val Loss: 1.4026\n",
      "Epoch: 14/20... Step: 1810... Loss: 1.3824... Val Loss: 1.4051\n",
      "Epoch: 14/20... Step: 1820... Loss: 1.3825... Val Loss: 1.4066\n",
      "Epoch: 14/20... Step: 1830... Loss: 1.3967... Val Loss: 1.3998\n",
      "Epoch: 14/20... Step: 1840... Loss: 1.3470... Val Loss: 1.4035\n",
      "Epoch: 14/20... Step: 1850... Loss: 1.3306... Val Loss: 1.4018\n",
      "Epoch: 14/20... Step: 1860... Loss: 1.3938... Val Loss: 1.4006\n",
      "Epoch: 14/20... Step: 1870... Loss: 1.3912... Val Loss: 1.3959\n",
      "Epoch: 14/20... Step: 1880... Loss: 1.3929... Val Loss: 1.3971\n",
      "Epoch: 14/20... Step: 1890... Loss: 1.3954... Val Loss: 1.3988\n",
      "Epoch: 14/20... Step: 1900... Loss: 1.3811... Val Loss: 1.3925\n",
      "Epoch: 14/20... Step: 1910... Loss: 1.3857... Val Loss: 1.3966\n",
      "Epoch: 14/20... Step: 1920... Loss: 1.3794... Val Loss: 1.3948\n",
      "Epoch: 14/20... Step: 1930... Loss: 1.3326... Val Loss: 1.3941\n",
      "Epoch: 14/20... Step: 1940... Loss: 1.3988... Val Loss: 1.3888\n",
      "Epoch: 15/20... Step: 1950... Loss: 1.3654... Val Loss: 1.3916\n",
      "Epoch: 15/20... Step: 1960... Loss: 1.3629... Val Loss: 1.3923\n",
      "Epoch: 15/20... Step: 1970... Loss: 1.3498... Val Loss: 1.3850\n",
      "Epoch: 15/20... Step: 1980... Loss: 1.3576... Val Loss: 1.3906\n",
      "Epoch: 15/20... Step: 1990... Loss: 1.3448... Val Loss: 1.3915\n",
      "Epoch: 15/20... Step: 2000... Loss: 1.3326... Val Loss: 1.3896\n",
      "Epoch: 15/20... Step: 2010... Loss: 1.3516... Val Loss: 1.3851\n",
      "Epoch: 15/20... Step: 2020... Loss: 1.3679... Val Loss: 1.3841\n",
      "Epoch: 15/20... Step: 2030... Loss: 1.3515... Val Loss: 1.3875\n",
      "Epoch: 15/20... Step: 2040... Loss: 1.3535... Val Loss: 1.3819\n",
      "Epoch: 15/20... Step: 2050... Loss: 1.3436... Val Loss: 1.3816\n",
      "Epoch: 15/20... Step: 2060... Loss: 1.3578... Val Loss: 1.3852\n",
      "Epoch: 15/20... Step: 2070... Loss: 1.3517... Val Loss: 1.3803\n",
      "Epoch: 15/20... Step: 2080... Loss: 1.3497... Val Loss: 1.3759\n",
      "Epoch: 16/20... Step: 2090... Loss: 1.3648... Val Loss: 1.3792\n",
      "Epoch: 16/20... Step: 2100... Loss: 1.3382... Val Loss: 1.3816\n",
      "Epoch: 16/20... Step: 2110... Loss: 1.3319... Val Loss: 1.3754\n",
      "Epoch: 16/20... Step: 2120... Loss: 1.3510... Val Loss: 1.3776\n",
      "Epoch: 16/20... Step: 2130... Loss: 1.3235... Val Loss: 1.3794\n",
      "Epoch: 16/20... Step: 2140... Loss: 1.3344... Val Loss: 1.3757\n",
      "Epoch: 16/20... Step: 2150... Loss: 1.3633... Val Loss: 1.3742\n",
      "Epoch: 16/20... Step: 2160... Loss: 1.3384... Val Loss: 1.3736\n",
      "Epoch: 16/20... Step: 2170... Loss: 1.3374... Val Loss: 1.3741\n",
      "Epoch: 16/20... Step: 2180... Loss: 1.3207... Val Loss: 1.3694\n",
      "Epoch: 16/20... Step: 2190... Loss: 1.3487... Val Loss: 1.3728\n",
      "Epoch: 16/20... Step: 2200... Loss: 1.3298... Val Loss: 1.3722\n",
      "Epoch: 16/20... Step: 2210... Loss: 1.2961... Val Loss: 1.3690\n",
      "Epoch: 16/20... Step: 2220... Loss: 1.3437... Val Loss: 1.3695\n",
      "Epoch: 17/20... Step: 2230... Loss: 1.3112... Val Loss: 1.3670\n",
      "Epoch: 17/20... Step: 2240... Loss: 1.3303... Val Loss: 1.3722\n",
      "Epoch: 17/20... Step: 2250... Loss: 1.3100... Val Loss: 1.3635\n",
      "Epoch: 17/20... Step: 2260... Loss: 1.3206... Val Loss: 1.3674\n",
      "Epoch: 17/20... Step: 2270... Loss: 1.3370... Val Loss: 1.3688\n",
      "Epoch: 17/20... Step: 2280... Loss: 1.3252... Val Loss: 1.3670\n",
      "Epoch: 17/20... Step: 2290... Loss: 1.3365... Val Loss: 1.3618\n",
      "Epoch: 17/20... Step: 2300... Loss: 1.2974... Val Loss: 1.3667\n",
      "Epoch: 17/20... Step: 2310... Loss: 1.3130... Val Loss: 1.3648\n",
      "Epoch: 17/20... Step: 2320... Loss: 1.3186... Val Loss: 1.3589\n",
      "Epoch: 17/20... Step: 2330... Loss: 1.3044... Val Loss: 1.3645\n",
      "Epoch: 17/20... Step: 2340... Loss: 1.3307... Val Loss: 1.3621\n",
      "Epoch: 17/20... Step: 2350... Loss: 1.3404... Val Loss: 1.3617\n",
      "Epoch: 17/20... Step: 2360... Loss: 1.3352... Val Loss: 1.3621\n",
      "Epoch: 18/20... Step: 2370... Loss: 1.3007... Val Loss: 1.3625\n",
      "Epoch: 18/20... Step: 2380... Loss: 1.3095... Val Loss: 1.3640\n",
      "Epoch: 18/20... Step: 2390... Loss: 1.3186... Val Loss: 1.3594\n",
      "Epoch: 18/20... Step: 2400... Loss: 1.3405... Val Loss: 1.3600\n",
      "Epoch: 18/20... Step: 2410... Loss: 1.3277... Val Loss: 1.3609\n",
      "Epoch: 18/20... Step: 2420... Loss: 1.3050... Val Loss: 1.3572\n",
      "Epoch: 18/20... Step: 2430... Loss: 1.3206... Val Loss: 1.3566\n",
      "Epoch: 18/20... Step: 2440... Loss: 1.2937... Val Loss: 1.3614\n",
      "Epoch: 18/20... Step: 2450... Loss: 1.2989... Val Loss: 1.3578\n",
      "Epoch: 18/20... Step: 2460... Loss: 1.3089... Val Loss: 1.3538\n",
      "Epoch: 18/20... Step: 2470... Loss: 1.3000... Val Loss: 1.3566\n",
      "Epoch: 18/20... Step: 2480... Loss: 1.3078... Val Loss: 1.3554\n",
      "Epoch: 18/20... Step: 2490... Loss: 1.2979... Val Loss: 1.3520\n",
      "Epoch: 18/20... Step: 2500... Loss: 1.2989... Val Loss: 1.3546\n",
      "Epoch: 19/20... Step: 2510... Loss: 1.3045... Val Loss: 1.3547\n",
      "Epoch: 19/20... Step: 2520... Loss: 1.3122... Val Loss: 1.3571\n",
      "Epoch: 19/20... Step: 2530... Loss: 1.3167... Val Loss: 1.3509\n",
      "Epoch: 19/20... Step: 2540... Loss: 1.3268... Val Loss: 1.3544\n",
      "Epoch: 19/20... Step: 2550... Loss: 1.2981... Val Loss: 1.3548\n",
      "Epoch: 19/20... Step: 2560... Loss: 1.3015... Val Loss: 1.3512\n",
      "Epoch: 19/20... Step: 2570... Loss: 1.2994... Val Loss: 1.3530\n",
      "Epoch: 19/20... Step: 2580... Loss: 1.3243... Val Loss: 1.3557\n",
      "Epoch: 19/20... Step: 2590... Loss: 1.2859... Val Loss: 1.3529\n",
      "Epoch: 19/20... Step: 2600... Loss: 1.2961... Val Loss: 1.3488\n",
      "Epoch: 19/20... Step: 2610... Loss: 1.2954... Val Loss: 1.3492\n",
      "Epoch: 19/20... Step: 2620... Loss: 1.2782... Val Loss: 1.3490\n",
      "Epoch: 19/20... Step: 2630... Loss: 1.2830... Val Loss: 1.3495\n",
      "Epoch: 19/20... Step: 2640... Loss: 1.2985... Val Loss: 1.3480\n",
      "Epoch: 20/20... Step: 2650... Loss: 1.3049... Val Loss: 1.3424\n"
     ]
    },
    {
     "name": "stdout",
     "output_type": "stream",
     "text": [
      "Epoch: 20/20... Step: 2660... Loss: 1.3018... Val Loss: 1.3467\n",
      "Epoch: 20/20... Step: 2670... Loss: 1.3002... Val Loss: 1.3457\n",
      "Epoch: 20/20... Step: 2680... Loss: 1.2970... Val Loss: 1.3478\n",
      "Epoch: 20/20... Step: 2690... Loss: 1.2876... Val Loss: 1.3488\n",
      "Epoch: 20/20... Step: 2700... Loss: 1.2920... Val Loss: 1.3428\n",
      "Epoch: 20/20... Step: 2710... Loss: 1.2691... Val Loss: 1.3436\n",
      "Epoch: 20/20... Step: 2720... Loss: 1.2688... Val Loss: 1.3470\n",
      "Epoch: 20/20... Step: 2730... Loss: 1.2619... Val Loss: 1.3452\n",
      "Epoch: 20/20... Step: 2740... Loss: 1.2642... Val Loss: 1.3410\n",
      "Epoch: 20/20... Step: 2750... Loss: 1.2748... Val Loss: 1.3441\n",
      "Epoch: 20/20... Step: 2760... Loss: 1.2624... Val Loss: 1.3422\n",
      "Epoch: 20/20... Step: 2770... Loss: 1.2961... Val Loss: 1.3406\n",
      "Epoch: 20/20... Step: 2780... Loss: 1.3201... Val Loss: 1.3387\n"
     ]
    }
   ],
   "source": [
    "# train the model\n",
    "train(net, encoded, epochs=n_epochs, batch_size=batch_size, seq_length=seq_length, lr=0.001, print_every=10)"
   ]
  },
  {
   "cell_type": "markdown",
   "metadata": {},
   "source": [
    "## Getting the best model\n",
    "\n",
    "To set your hyperparameters to get the best performance, you'll want to watch the training and validation losses. If your training loss is much lower than the validation loss, you're overfitting. Increase regularization (more dropout) or use a smaller network. If the training and validation losses are close, you're underfitting so you can increase the size of the network."
   ]
  },
  {
   "cell_type": "markdown",
   "metadata": {},
   "source": [
    "## Hyperparameters\n",
    "\n",
    "Here are the hyperparameters for the network.\n",
    "\n",
    "In defining the model:\n",
    "* `n_hidden` - The number of units in the hidden layers.\n",
    "* `n_layers` - Number of hidden LSTM layers to use.\n",
    "\n",
    "We assume that dropout probability and learning rate will be kept at the default, in this example.\n",
    "\n",
    "And in training:\n",
    "* `batch_size` - Number of sequences running through the network in one pass.\n",
    "* `seq_length` - Number of characters in the sequence the network is trained on. Larger is better typically, the network will learn more long range dependencies. But it takes longer to train. 100 is typically a good number here.\n",
    "* `lr` - Learning rate for training\n",
    "\n",
    "Here's some good advice from Andrej Karpathy on training the network. I'm going to copy it in here for your benefit, but also link to [where it originally came from](https://github.com/karpathy/char-rnn#tips-and-tricks).\n",
    "\n",
    "> ## Tips and Tricks\n",
    "\n",
    ">### Monitoring Validation Loss vs. Training Loss\n",
    ">If you're somewhat new to Machine Learning or Neural Networks it can take a bit of expertise to get good models. The most important quantity to keep track of is the difference between your training loss (printed during training) and the validation loss (printed once in a while when the RNN is run on the validation data (by default every 1000 iterations)). In particular:\n",
    "\n",
    "> - If your training loss is much lower than validation loss then this means the network might be **overfitting**. Solutions to this are to decrease your network size, or to increase dropout. For example you could try dropout of 0.5 and so on.\n",
    "> - If your training/validation loss are about equal then your model is **underfitting**. Increase the size of your model (either number of layers or the raw number of neurons per layer)\n",
    "\n",
    "> ### Approximate number of parameters\n",
    "\n",
    "> The two most important parameters that control the model are `n_hidden` and `n_layers`. I would advise that you always use `n_layers` of either 2/3. The `n_hidden` can be adjusted based on how much data you have. The two important quantities to keep track of here are:\n",
    "\n",
    "> - The number of parameters in your model. This is printed when you start training.\n",
    "> - The size of your dataset. 1MB file is approximately 1 million characters.\n",
    "\n",
    ">These two should be about the same order of magnitude. It's a little tricky to tell. Here are some examples:\n",
    "\n",
    "> - I have a 100MB dataset and I'm using the default parameter settings (which currently print 150K parameters). My data size is significantly larger (100 mil >> 0.15 mil), so I expect to heavily underfit. I am thinking I can comfortably afford to make `n_hidden` larger.\n",
    "> - I have a 10MB dataset and running a 10 million parameter model. I'm slightly nervous and I'm carefully monitoring my validation loss. If it's larger than my training loss then I may want to try to increase dropout a bit and see if that helps the validation loss.\n",
    "\n",
    "> ### Best models strategy\n",
    "\n",
    ">The winning strategy to obtaining very good models (if you have the compute time) is to always err on making the network larger (as large as you're willing to wait for it to compute) and then try different dropout values (between 0,1). Whatever model has the best validation performance (the loss, written in the checkpoint filename, low is good) is the one you should use in the end.\n",
    "\n",
    ">It is very common in deep learning to run many different models with many different hyperparameter settings, and in the end take whatever checkpoint gave the best validation performance.\n",
    "\n",
    ">By the way, the size of your training and validation splits are also parameters. Make sure you have a decent amount of data in your validation set or otherwise the validation performance will be noisy and not very informative."
   ]
  },
  {
   "cell_type": "markdown",
   "metadata": {},
   "source": [
    "## Checkpoint\n",
    "\n",
    "After training, we'll save the model so we can load it again later if we need too. Here I'm saving the parameters needed to create the same architecture, the hidden layer hyperparameters and the text characters."
   ]
  },
  {
   "cell_type": "code",
   "execution_count": 58,
   "metadata": {},
   "outputs": [],
   "source": [
    "# change the name, for saving multiple files\n",
    "model_name = 'rnn_20_epoch.net'\n",
    "\n",
    "checkpoint = {'n_hidden': net.n_hidden,\n",
    "              'n_layers': net.n_layers,\n",
    "              'state_dict': net.state_dict(),\n",
    "              'tokens': net.chars}\n",
    "\n",
    "with open(model_name, 'wb') as f:\n",
    "    torch.save(checkpoint, f)"
   ]
  },
  {
   "cell_type": "markdown",
   "metadata": {},
   "source": [
    "---\n",
    "## Making Predictions\n",
    "\n",
    "Now that the model is trained, we'll want to sample from it and make predictions about next characters! To sample, we pass in a character and have the network predict the next character. Then we take that character, pass it back in, and get another predicted character. Just keep doing this and you'll generate a bunch of text!\n",
    "\n",
    "### A note on the `predict`  function\n",
    "\n",
    "The output of our RNN is from a fully-connected layer and it outputs a **distribution of next-character scores**.\n",
    "\n",
    "> To actually get the next character, we apply a softmax function, which gives us a *probability* distribution that we can then sample to predict the next character.\n",
    "\n",
    "### Top K sampling\n",
    "\n",
    "Our predictions come from a categorical probability distribution over all the possible characters. We can make the sample text and make it more reasonable to handle (with less variables) by only considering some $K$ most probable characters. This will prevent the network from giving us completely absurd characters while allowing it to introduce some noise and randomness into the sampled text. Read more about [topk, here](https://pytorch.org/docs/stable/torch.html#torch.topk).\n"
   ]
  },
  {
   "cell_type": "code",
   "execution_count": 59,
   "metadata": {},
   "outputs": [],
   "source": [
    "def predict(net, char, h=None, top_k=None):\n",
    "        ''' Given a character, predict the next character.\n",
    "            Returns the predicted character and the hidden state.\n",
    "        '''\n",
    "        \n",
    "        # tensor inputs\n",
    "        x = np.array([[net.char2int[char]]])\n",
    "        x = one_hot_encode(x, len(net.chars))\n",
    "        inputs = torch.from_numpy(x)\n",
    "        \n",
    "        if(train_on_gpu):\n",
    "            inputs = inputs.cuda()\n",
    "        \n",
    "        # detach hidden state from history\n",
    "        h = tuple([each.data for each in h])\n",
    "        # get the output of the model\n",
    "        out, h = net(inputs, h)\n",
    "\n",
    "        # get the character probabilities\n",
    "        p = F.softmax(out, dim=1).data\n",
    "        if(train_on_gpu):\n",
    "            p = p.cpu() # move to cpu\n",
    "        \n",
    "        # get top characters\n",
    "        if top_k is None:\n",
    "            top_ch = np.arange(len(net.chars))\n",
    "        else:\n",
    "            p, top_ch = p.topk(top_k)\n",
    "            top_ch = top_ch.numpy().squeeze()\n",
    "        \n",
    "        # select the likely next character with some element of randomness\n",
    "        p = p.numpy().squeeze()\n",
    "        char = np.random.choice(top_ch, p=p/p.sum())\n",
    "        \n",
    "        # return the encoded value of the predicted char and the hidden state\n",
    "        return net.int2char[char], h"
   ]
  },
  {
   "cell_type": "markdown",
   "metadata": {},
   "source": [
    "### Priming and generating text \n",
    "\n",
    "Typically you'll want to prime the network so you can build up a hidden state. Otherwise the network will start out generating characters at random. In general the first bunch of characters will be a little rough since it hasn't built up a long history of characters to predict from."
   ]
  },
  {
   "cell_type": "code",
   "execution_count": 60,
   "metadata": {},
   "outputs": [],
   "source": [
    "def sample(net, size, prime='The', top_k=None):\n",
    "        \n",
    "    if(train_on_gpu):\n",
    "        net.cuda()\n",
    "    else:\n",
    "        net.cpu()\n",
    "    \n",
    "    net.eval() # eval mode\n",
    "    \n",
    "    # First off, run through the prime characters\n",
    "    chars = [ch for ch in prime]\n",
    "    h = net.init_hidden(1)\n",
    "    for ch in prime:\n",
    "        char, h = predict(net, ch, h, top_k=top_k)\n",
    "\n",
    "    chars.append(char)\n",
    "    \n",
    "    # Now pass in the previous character and get a new one\n",
    "    for ii in range(size):\n",
    "        char, h = predict(net, chars[-1], h, top_k=top_k)\n",
    "        chars.append(char)\n",
    "\n",
    "    return ''.join(chars)"
   ]
  },
  {
   "cell_type": "code",
   "execution_count": 61,
   "metadata": {},
   "outputs": [
    {
     "name": "stdout",
     "output_type": "stream",
     "text": [
      "Annano oris as he ound hestoulere hangre han tor ting s anero a ang sit oust s hes t thorishangr orind sis aredinghe orered the hinen se tithithinofr t and an he he t s a asho asthathand thane t harin hond a ster t oun thes s ha tharineroutoung t or ounororer or hid h oun athasid tho atherorithe hesis he s th hathateshesinghe hinon thangr s an ousthe an onge as t one hin she ofonery timered steshe hed arofo th s his ore ast his anousthenghe oronge thoutin herite ate he thed hen hand asingedid t her he hed and h serind and to hindour sthand and handin s thithanen a to s theng has ory t atonof thed on hed hen the sidid orindesthis t arorondere t ast he he t thery out s ton tese t s o h sh herore the s an a thery o t thist he se angher an thend he hitherere thery at hedonghe sten ory\n",
      "\n",
      "thed thas th h ofine hed ofend t se at t ond an t shit o hand hanofofoforyoulith t ate t at te t h t tengheres aren he thin t hinge t has tha he he tinendous tound hend sene a t at atherond theridin t the s oun t\n"
     ]
    }
   ],
   "source": [
    "print(sample(net, 1000, prime='Anna', top_k=5))"
   ]
  },
  {
   "cell_type": "markdown",
   "metadata": {},
   "source": [
    "## Loading a checkpoint"
   ]
  },
  {
   "cell_type": "code",
   "execution_count": 62,
   "metadata": {},
   "outputs": [
    {
     "data": {
      "text/plain": [
       "<All keys matched successfully>"
      ]
     },
     "execution_count": 62,
     "metadata": {},
     "output_type": "execute_result"
    }
   ],
   "source": [
    "# Here we have loaded in a model that trained over 20 epochs `rnn_20_epoch.net`\n",
    "with open('rnn_20_epoch.net', 'rb') as f:\n",
    "    checkpoint = torch.load(f)\n",
    "    \n",
    "loaded = CharRNN(checkpoint['tokens'], n_hidden=checkpoint['n_hidden'], n_layers=checkpoint['n_layers'])\n",
    "loaded.load_state_dict(checkpoint['state_dict'])"
   ]
  },
  {
   "cell_type": "code",
   "execution_count": 63,
   "metadata": {},
   "outputs": [
    {
     "name": "stdout",
     "output_type": "stream",
     "text": [
      "And Levin said an hor asthan atedin he hed thin shanofoused timed heronge he the ourorest s herimath there or ho t hathoune hase ates tind he hand hand\n",
      "singoulind t terenghate handourinend th ase on ared sthorimas ashofes hare thidind sthas a a herimest t thithin arouronend he athist orined ang t there he thenesise hinger s at ono a se than t an t hese an theringry hed a aterouthed a outhonge a ore he ted\n",
      "tored\n",
      "shes s tis has arene arise t ofong s s or anghed s o thinge as t a th he ath o therererenged he at thas ane s the an ar h s h hof herin ton her are hate shis ored st of anged\n",
      "t on oun o toulen tharere t s as tithere he tid the ton or oule the hedithas henoustit thestheres thistorout as the t thaner h athan o ored t herithand ouryo atong aton hande thino sithe the s asind t t the thand and s thinge s h tor anding t hishe histharit oun aronouthere s ane te hof than hatesen outofesitherouridin tithe he and ous tedised thesinouthes of at th a t t his stounede h ond th hin sth shanghed athanouthede s s t athe thenonesh s on hes the athan te a oris hed s h th ongon s ary sher as s ored hary s simathofof ong thit one tous tindorof hand a t on ather thorind s tisha stond\n",
      "s o t anouly an orind thes he s ath s ased outind sher te hener ting to he ste thend t he the o t ound thiminere the sth hat tin arerofry\n",
      "tof a thon out herine hing of he sthen hereristinger anoundimases th a o tene stheroure athin a ter s thathe are at thisthed an ar oure athe a to sere s tor sthon ar s oulous an hind she haris th athesth thoun ofo thinde outofoullimo to ond ares and tha to s sered s and tes arourened ang hendidid herenenon s tisthesesto o t t or ound of an tofe or a tisin herone ounonghed tinouthe hano onofry o th hat shand t herit s terouthered th thery and atoulere t tongeris s hist he tha a as ore s an h tofoun t o h and and of t hery s at seng t tond arerind ha thined an the o thar an s t anghary s as thesistoron s hen se asered ane t st tor are ous hidinof there terit an o here ang han sid t\n"
     ]
    }
   ],
   "source": [
    "# Sample using a loaded model\n",
    "print(sample(loaded, 2000, top_k=5, prime=\"And Levin said\"))"
   ]
  },
  {
   "cell_type": "code",
   "execution_count": null,
   "metadata": {
    "collapsed": true
   },
   "outputs": [],
   "source": []
  }
 ],
 "metadata": {
  "kernelspec": {
   "display_name": "Python 3",
   "language": "python",
   "name": "python3"
  },
  "language_info": {
   "codemirror_mode": {
    "name": "ipython",
    "version": 3
   },
   "file_extension": ".py",
   "mimetype": "text/x-python",
   "name": "python",
   "nbconvert_exporter": "python",
   "pygments_lexer": "ipython3",
   "version": "3.7.5"
  }
 },
 "nbformat": 4,
 "nbformat_minor": 2
}
